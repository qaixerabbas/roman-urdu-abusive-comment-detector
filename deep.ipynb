{
  "nbformat": 4,
  "nbformat_minor": 0,
  "metadata": {
    "colab": {
      "name": "deep.ipynb",
      "version": "0.3.2",
      "provenance": [],
      "collapsed_sections": []
    },
    "kernelspec": {
      "name": "python3",
      "display_name": "Python 3"
    },
    "accelerator": "GPU"
  },
  "cells": [
    {
      "cell_type": "code",
      "metadata": {
        "id": "ZB955eY0zYXq",
        "colab_type": "code",
        "colab": {}
      },
      "source": [
        "import pandas as pd\n",
        "data = pd.read_csv('final.csv')"
      ],
      "execution_count": 0,
      "outputs": []
    },
    {
      "cell_type": "code",
      "metadata": {
        "id": "zxeNKsk_02dv",
        "colab_type": "code",
        "outputId": "68d1a5e8-19e7-4b92-a309-2bef1da3b4bf",
        "colab": {
          "base_uri": "https://localhost:8080/",
          "height": 34
        }
      },
      "source": [
        "import tensorflow as tf\n",
        "tf.test.gpu_device_name()"
      ],
      "execution_count": 2,
      "outputs": [
        {
          "output_type": "execute_result",
          "data": {
            "text/plain": [
              "'/device:GPU:0'"
            ]
          },
          "metadata": {
            "tags": []
          },
          "execution_count": 2
        }
      ]
    },
    {
      "cell_type": "code",
      "metadata": {
        "id": "PEJDUNep043y",
        "colab_type": "code",
        "colab": {}
      },
      "source": [
        "def getVectors(corpus,vectors,size):\n",
        "    wordset = set(vectors.wv.index2word) #Checks if the word is in the Word2vec corpus \n",
        "    vec = []\n",
        "    counter = 0\n",
        "    for words in corpus:    \n",
        "        featureVec = np.zeros(size,dtype=\"object\")\n",
        "        for word in words:\n",
        "            if word in wordset:\n",
        "                featureVec = np.add(featureVec,vectors[word])\n",
        "        vec.append(featureVec.T)\n",
        "        counter = counter + 1\n",
        "        #print(counter)\n",
        "    return vec\n"
      ],
      "execution_count": 0,
      "outputs": []
    },
    {
      "cell_type": "code",
      "metadata": {
        "id": "4mYb8pxP09vK",
        "colab_type": "code",
        "colab": {}
      },
      "source": [
        "corpus = []\n",
        "for words in data.comment:\n",
        "    words = words.split()\n",
        "    corpus.append(words)\n",
        "\n"
      ],
      "execution_count": 0,
      "outputs": []
    },
    {
      "cell_type": "code",
      "metadata": {
        "id": "d2mp6gs-1BZ3",
        "colab_type": "code",
        "outputId": "fc1e3397-0191-48fc-957a-46bbdb188537",
        "colab": {
          "base_uri": "https://localhost:8080/",
          "height": 34
        }
      },
      "source": [
        "from keras.utils import to_categorical\n",
        "Y = to_categorical(data.rating)\n"
      ],
      "execution_count": 5,
      "outputs": [
        {
          "output_type": "stream",
          "text": [
            "Using TensorFlow backend.\n"
          ],
          "name": "stderr"
        }
      ]
    },
    {
      "cell_type": "code",
      "metadata": {
        "id": "QA6sAWWz1KFX",
        "colab_type": "code",
        "colab": {}
      },
      "source": [
        "from sklearn.model_selection import train_test_split\n",
        "X_train, X_test, Y_train, y_test = train_test_split(corpus,Y, test_size = 0.20, random_state = 123)\n"
      ],
      "execution_count": 0,
      "outputs": []
    },
    {
      "cell_type": "code",
      "metadata": {
        "id": "PjwVyj8O1Mxt",
        "colab_type": "code",
        "colab": {}
      },
      "source": [
        "import gensim.models.word2vec as wv\n",
        "vocab_size = 300\n",
        "min_counts = 10\n",
        "context = 5\n",
        "n_workers = 15\n",
        "down_sample = 1e-2\n",
        "vectors = wv.Word2Vec(X_train,\n",
        "                     size = vocab_size,\n",
        "                     workers =n_workers,\n",
        "                     window = context,\n",
        "                     min_count = min_counts,\n",
        "                     sample = down_sample)\n",
        "\n"
      ],
      "execution_count": 0,
      "outputs": []
    },
    {
      "cell_type": "code",
      "metadata": {
        "id": "qSFeR3MR1PXJ",
        "colab_type": "code",
        "outputId": "63791ccc-cf0a-4985-a275-448fac4dd9b7",
        "colab": {
          "base_uri": "https://localhost:8080/",
          "height": 71
        }
      },
      "source": [
        "import numpy as np\n",
        "\n",
        "X_train = getVectors(X_train,vectors,vocab_size)\n",
        "X_test = getVectors(X_test,vectors,vocab_size)\n"
      ],
      "execution_count": 8,
      "outputs": [
        {
          "output_type": "stream",
          "text": [
            "/usr/local/lib/python3.6/dist-packages/ipykernel_launcher.py:9: DeprecationWarning: Call to deprecated `__getitem__` (Method will be removed in 4.0.0, use self.wv.__getitem__() instead).\n",
            "  if __name__ == '__main__':\n"
          ],
          "name": "stderr"
        }
      ]
    },
    {
      "cell_type": "code",
      "metadata": {
        "id": "5GYNZrCO1Vj1",
        "colab_type": "code",
        "colab": {}
      },
      "source": [
        "X_train = np.array(X_train)\n",
        "X_test = np.array(X_test)\n"
      ],
      "execution_count": 0,
      "outputs": []
    },
    {
      "cell_type": "code",
      "metadata": {
        "id": "XrbfAC8R2Pxa",
        "colab_type": "code",
        "colab": {}
      },
      "source": [
        "from keras.models import Sequential\n",
        "from keras.layers import Dense\n",
        "from keras import layers\n",
        "from keras import regularizers"
      ],
      "execution_count": 0,
      "outputs": []
    },
    {
      "cell_type": "code",
      "metadata": {
        "id": "akHrjSoN2Tb0",
        "colab_type": "code",
        "outputId": "04a6da50-8735-4233-ba0d-33612f14bcc7",
        "colab": {
          "base_uri": "https://localhost:8080/",
          "height": 275
        }
      },
      "source": [
        "classifier = Sequential()\n",
        "\n",
        "# Adding the input layer and the first hidden layer\n",
        "classifier.add(Dense(output_dim =1024, init = 'uniform', activation = 'relu', input_dim = vocab_size,kernel_regularizer= regularizers.l2(0.0001)))\n",
        "classifier.add(layers.Dropout(0.2))\n",
        "# Adding the second hidden layer\n",
        "classifier.add(Dense(output_dim =1024, init = 'uniform', activation = 'relu'))\n",
        "#classifier.add(layers.Dropout(0.25))\n",
        "# Adding the third hidden layer\n",
        "classifier.add(Dense(output_dim =1024, init = 'uniform', activation = 'relu',kernel_regularizer= regularizers.l2(0.0001)))\n",
        "#classifier.add(layers.Dropout(0.25))\n",
        "# Adding the output layer\n",
        "classifier.add(Dense(output_dim = 2, init = 'uniform', activation = 'softmax'))\n"
      ],
      "execution_count": 11,
      "outputs": [
        {
          "output_type": "stream",
          "text": [
            "WARNING:tensorflow:From /usr/local/lib/python3.6/dist-packages/tensorflow/python/framework/op_def_library.py:263: colocate_with (from tensorflow.python.framework.ops) is deprecated and will be removed in a future version.\n",
            "Instructions for updating:\n",
            "Colocations handled automatically by placer.\n",
            "WARNING:tensorflow:From /usr/local/lib/python3.6/dist-packages/keras/backend/tensorflow_backend.py:3445: calling dropout (from tensorflow.python.ops.nn_ops) with keep_prob is deprecated and will be removed in a future version.\n",
            "Instructions for updating:\n",
            "Please use `rate` instead of `keep_prob`. Rate should be set to `rate = 1 - keep_prob`.\n"
          ],
          "name": "stdout"
        },
        {
          "output_type": "stream",
          "text": [
            "/usr/local/lib/python3.6/dist-packages/ipykernel_launcher.py:4: UserWarning: Update your `Dense` call to the Keras 2 API: `Dense(activation=\"relu\", input_dim=300, kernel_regularizer=<keras.reg..., units=1024, kernel_initializer=\"uniform\")`\n",
            "  after removing the cwd from sys.path.\n",
            "/usr/local/lib/python3.6/dist-packages/ipykernel_launcher.py:7: UserWarning: Update your `Dense` call to the Keras 2 API: `Dense(activation=\"relu\", units=1024, kernel_initializer=\"uniform\")`\n",
            "  import sys\n",
            "/usr/local/lib/python3.6/dist-packages/ipykernel_launcher.py:10: UserWarning: Update your `Dense` call to the Keras 2 API: `Dense(activation=\"relu\", kernel_regularizer=<keras.reg..., units=1024, kernel_initializer=\"uniform\")`\n",
            "  # Remove the CWD from sys.path while we load stuff.\n",
            "/usr/local/lib/python3.6/dist-packages/ipykernel_launcher.py:13: UserWarning: Update your `Dense` call to the Keras 2 API: `Dense(activation=\"softmax\", units=2, kernel_initializer=\"uniform\")`\n",
            "  del sys.path[0]\n"
          ],
          "name": "stderr"
        }
      ]
    },
    {
      "cell_type": "code",
      "metadata": {
        "id": "-3p2hwPu2aPP",
        "colab_type": "code",
        "colab": {}
      },
      "source": [
        "# Compiling the ANN\n",
        "classifier.compile(optimizer = 'adam', loss = 'categorical_crossentropy', metrics = ['accuracy'])\n"
      ],
      "execution_count": 0,
      "outputs": []
    },
    {
      "cell_type": "code",
      "metadata": {
        "id": "JoWSVpnJ2cq5",
        "colab_type": "code",
        "outputId": "56a9653c-4565-4464-ffd1-65329b54ac3d",
        "colab": {
          "base_uri": "https://localhost:8080/",
          "height": 2145
        }
      },
      "source": [
        "# Fitting the ANN to the Training set\n",
        "classifier.fit(X_train, Y_train, batch_size = 50, epochs = 60)\n"
      ],
      "execution_count": 13,
      "outputs": [
        {
          "output_type": "stream",
          "text": [
            "WARNING:tensorflow:From /usr/local/lib/python3.6/dist-packages/tensorflow/python/ops/math_ops.py:3066: to_int32 (from tensorflow.python.ops.math_ops) is deprecated and will be removed in a future version.\n",
            "Instructions for updating:\n",
            "Use tf.cast instead.\n",
            "Epoch 1/60\n",
            "130139/130139 [==============================] - 14s 111us/step - loss: 0.4149 - acc: 0.8447\n",
            "Epoch 2/60\n",
            "130139/130139 [==============================] - 13s 102us/step - loss: 0.3538 - acc: 0.8608\n",
            "Epoch 3/60\n",
            "130139/130139 [==============================] - 14s 106us/step - loss: 0.3446 - acc: 0.8640\n",
            "Epoch 4/60\n",
            "130139/130139 [==============================] - 13s 102us/step - loss: 0.3374 - acc: 0.8656\n",
            "Epoch 5/60\n",
            "130139/130139 [==============================] - 13s 101us/step - loss: 0.3339 - acc: 0.8670\n",
            "Epoch 6/60\n",
            "130139/130139 [==============================] - 13s 101us/step - loss: 0.3290 - acc: 0.8693\n",
            "Epoch 7/60\n",
            "130139/130139 [==============================] - 13s 101us/step - loss: 0.3269 - acc: 0.8695\n",
            "Epoch 8/60\n",
            "130139/130139 [==============================] - 13s 101us/step - loss: 0.3238 - acc: 0.8703\n",
            "Epoch 9/60\n",
            "130139/130139 [==============================] - 14s 106us/step - loss: 0.3222 - acc: 0.8718\n",
            "Epoch 10/60\n",
            "130139/130139 [==============================] - 13s 101us/step - loss: 0.3220 - acc: 0.8725\n",
            "Epoch 11/60\n",
            "130139/130139 [==============================] - 13s 101us/step - loss: 0.3188 - acc: 0.8731\n",
            "Epoch 12/60\n",
            "130139/130139 [==============================] - 14s 108us/step - loss: 0.3164 - acc: 0.8742\n",
            "Epoch 13/60\n",
            "130139/130139 [==============================] - 13s 102us/step - loss: 0.3164 - acc: 0.8743\n",
            "Epoch 14/60\n",
            "130139/130139 [==============================] - 13s 101us/step - loss: 0.3144 - acc: 0.8741\n",
            "Epoch 15/60\n",
            "130139/130139 [==============================] - 14s 106us/step - loss: 0.3143 - acc: 0.8741\n",
            "Epoch 16/60\n",
            "130139/130139 [==============================] - 13s 101us/step - loss: 0.3133 - acc: 0.8748\n",
            "Epoch 17/60\n",
            "130139/130139 [==============================] - 13s 103us/step - loss: 0.3101 - acc: 0.8764\n",
            "Epoch 18/60\n",
            "130139/130139 [==============================] - 13s 103us/step - loss: 0.3096 - acc: 0.8760\n",
            "Epoch 19/60\n",
            "130139/130139 [==============================] - 13s 101us/step - loss: 0.3101 - acc: 0.8760\n",
            "Epoch 20/60\n",
            "130139/130139 [==============================] - 13s 101us/step - loss: 0.3086 - acc: 0.8771\n",
            "Epoch 21/60\n",
            "130139/130139 [==============================] - 14s 106us/step - loss: 0.3086 - acc: 0.8765\n",
            "Epoch 22/60\n",
            "130139/130139 [==============================] - 13s 101us/step - loss: 0.3087 - acc: 0.8767\n",
            "Epoch 23/60\n",
            "130139/130139 [==============================] - 13s 101us/step - loss: 0.3083 - acc: 0.8767\n",
            "Epoch 24/60\n",
            "130139/130139 [==============================] - 13s 101us/step - loss: 0.3084 - acc: 0.8767\n",
            "Epoch 25/60\n",
            "130139/130139 [==============================] - 13s 101us/step - loss: 0.3077 - acc: 0.8772\n",
            "Epoch 26/60\n",
            "130139/130139 [==============================] - 13s 101us/step - loss: 0.3062 - acc: 0.8774\n",
            "Epoch 27/60\n",
            "130139/130139 [==============================] - 14s 106us/step - loss: 0.3052 - acc: 0.8783\n",
            "Epoch 28/60\n",
            "130139/130139 [==============================] - 13s 101us/step - loss: 0.3058 - acc: 0.8778\n",
            "Epoch 29/60\n",
            "130139/130139 [==============================] - 13s 101us/step - loss: 0.3048 - acc: 0.8788\n",
            "Epoch 30/60\n",
            "130139/130139 [==============================] - 13s 102us/step - loss: 0.3051 - acc: 0.8785\n",
            "Epoch 31/60\n",
            "130139/130139 [==============================] - 13s 102us/step - loss: 0.3039 - acc: 0.8777\n",
            "Epoch 32/60\n",
            "130139/130139 [==============================] - 13s 101us/step - loss: 0.3036 - acc: 0.8785\n",
            "Epoch 33/60\n",
            "130139/130139 [==============================] - 14s 106us/step - loss: 0.3041 - acc: 0.8787\n",
            "Epoch 34/60\n",
            "130139/130139 [==============================] - 13s 101us/step - loss: 0.3020 - acc: 0.8789\n",
            "Epoch 35/60\n",
            "130139/130139 [==============================] - 14s 105us/step - loss: 0.3037 - acc: 0.8781\n",
            "Epoch 36/60\n",
            "130139/130139 [==============================] - 14s 104us/step - loss: 0.3027 - acc: 0.8801\n",
            "Epoch 37/60\n",
            "130139/130139 [==============================] - 13s 101us/step - loss: 0.3023 - acc: 0.8787\n",
            "Epoch 38/60\n",
            "130139/130139 [==============================] - 13s 101us/step - loss: 0.3039 - acc: 0.8790\n",
            "Epoch 39/60\n",
            "130139/130139 [==============================] - 14s 107us/step - loss: 0.3022 - acc: 0.8794\n",
            "Epoch 40/60\n",
            "130139/130139 [==============================] - 13s 104us/step - loss: 0.3034 - acc: 0.8787\n",
            "Epoch 41/60\n",
            "130139/130139 [==============================] - 13s 102us/step - loss: 0.3046 - acc: 0.8785\n",
            "Epoch 42/60\n",
            "130139/130139 [==============================] - 13s 101us/step - loss: 0.3024 - acc: 0.8787\n",
            "Epoch 43/60\n",
            "130139/130139 [==============================] - 13s 101us/step - loss: 0.3025 - acc: 0.8788\n",
            "Epoch 44/60\n",
            "130139/130139 [==============================] - 13s 101us/step - loss: 0.3030 - acc: 0.8798\n",
            "Epoch 45/60\n",
            "130139/130139 [==============================] - 14s 107us/step - loss: 0.3037 - acc: 0.8784\n",
            "Epoch 46/60\n",
            "130139/130139 [==============================] - 13s 101us/step - loss: 0.3016 - acc: 0.8804\n",
            "Epoch 47/60\n",
            "130139/130139 [==============================] - 13s 101us/step - loss: 0.3023 - acc: 0.8791\n",
            "Epoch 48/60\n",
            "130139/130139 [==============================] - 13s 101us/step - loss: 0.3007 - acc: 0.8797\n",
            "Epoch 49/60\n",
            "130139/130139 [==============================] - 13s 101us/step - loss: 0.3017 - acc: 0.8789\n",
            "Epoch 50/60\n",
            "130139/130139 [==============================] - 13s 101us/step - loss: 0.3036 - acc: 0.8791\n",
            "Epoch 51/60\n",
            "130139/130139 [==============================] - 14s 106us/step - loss: 0.3005 - acc: 0.8804\n",
            "Epoch 52/60\n",
            "130139/130139 [==============================] - 13s 101us/step - loss: 0.3023 - acc: 0.8803\n",
            "Epoch 53/60\n",
            "130139/130139 [==============================] - 13s 100us/step - loss: 0.3010 - acc: 0.8803\n",
            "Epoch 54/60\n",
            "130139/130139 [==============================] - 13s 100us/step - loss: 0.3011 - acc: 0.8797\n",
            "Epoch 55/60\n",
            "130139/130139 [==============================] - 13s 100us/step - loss: 0.3001 - acc: 0.8803\n",
            "Epoch 56/60\n",
            "130139/130139 [==============================] - 13s 100us/step - loss: 0.3004 - acc: 0.8796\n",
            "Epoch 57/60\n",
            "130139/130139 [==============================] - 14s 105us/step - loss: 0.3010 - acc: 0.8790\n",
            "Epoch 58/60\n",
            "130139/130139 [==============================] - 13s 102us/step - loss: 0.2991 - acc: 0.8800\n",
            "Epoch 59/60\n",
            "130139/130139 [==============================] - 14s 107us/step - loss: 0.2991 - acc: 0.8804\n",
            "Epoch 60/60\n",
            "130139/130139 [==============================] - 13s 100us/step - loss: 0.3006 - acc: 0.8796\n"
          ],
          "name": "stdout"
        },
        {
          "output_type": "execute_result",
          "data": {
            "text/plain": [
              "<keras.callbacks.History at 0x7f0b42c37b00>"
            ]
          },
          "metadata": {
            "tags": []
          },
          "execution_count": 13
        }
      ]
    },
    {
      "cell_type": "code",
      "metadata": {
        "id": "yWenziO12gTW",
        "colab_type": "code",
        "colab": {}
      },
      "source": [
        "y_pred = classifier.predict(X_test)\n",
        "\n",
        "y_pred = np.argmax(y_pred,axis = 1)\n",
        "y_test = np.argmax(y_test,axis = 1)\n"
      ],
      "execution_count": 0,
      "outputs": []
    },
    {
      "cell_type": "code",
      "metadata": {
        "id": "eb8D7E1d8jrI",
        "colab_type": "code",
        "outputId": "be2b6add-60be-4a04-eb74-142fa7755c57",
        "colab": {
          "base_uri": "https://localhost:8080/",
          "height": 34
        }
      },
      "source": [
        "from sklearn.metrics import accuracy_score\n",
        "from sklearn.metrics import confusion_matrix\n",
        "\n",
        "\n",
        "cm = confusion_matrix(y_test,y_pred)\n",
        "print(accuracy_score(y_test, y_pred))\n",
        "\n",
        "\n"
      ],
      "execution_count": 15,
      "outputs": [
        {
          "output_type": "stream",
          "text": [
            "0.8829568157368988\n"
          ],
          "name": "stdout"
        }
      ]
    },
    {
      "cell_type": "code",
      "metadata": {
        "id": "1fpBqN9tzE5c",
        "colab_type": "code",
        "colab": {}
      },
      "source": [
        "classifier.save(\"deep.h5\")"
      ],
      "execution_count": 0,
      "outputs": []
    },
    {
      "cell_type": "code",
      "metadata": {
        "id": "lC4xq_Cy8l9X",
        "colab_type": "code",
        "colab": {}
      },
      "source": [
        ""
      ],
      "execution_count": 0,
      "outputs": []
    }
  ]
}